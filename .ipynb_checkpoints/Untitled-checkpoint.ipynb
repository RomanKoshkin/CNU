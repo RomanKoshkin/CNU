{
 "cells": [
  {
   "cell_type": "markdown",
   "metadata": {},
   "source": [
    "## Bubble sort"
   ]
  },
  {
   "cell_type": "code",
   "execution_count": 37,
   "metadata": {},
   "outputs": [
    {
     "name": "stdout",
     "output_type": "stream",
     "text": [
      "1\n",
      "2\n",
      "3\n",
      "4\n",
      "5\n",
      "6\n",
      "7\n",
      "8\n",
      "9\n",
      "10\n",
      "11\n",
      "12\n",
      "[-7, 0, 5, 35, 105]\n"
     ]
    }
   ],
   "source": [
    "a = [-7, 5, 105, 35, 0]\n",
    "count = 0\n",
    "for j in range(3):\n",
    "    for i in range(4):\n",
    "        count += 1\n",
    "        print(count)\n",
    "        if a[i]>a[i+1]:\n",
    "            a[i]>a[i+1]\n",
    "            tmp = a[i+1]\n",
    "            a[i+1] = a[i]\n",
    "            a[i] = tmp\n",
    "print (a)"
   ]
  },
  {
   "cell_type": "code",
   "execution_count": 44,
   "metadata": {},
   "outputs": [
    {
     "name": "stdout",
     "output_type": "stream",
     "text": [
      "[(-0.02505653, -0.04326858, -0.3286858), (0.02494905, -0.04333065, -0.32874109999999995), (-7.073362000000001e-06, -0.049999999999999996, -0.3708815)]\n"
     ]
    }
   ],
   "source": [
    "import pickle\n",
    "\n",
    "dbfile = open('examplePickle', 'rb')\n",
    "\n",
    "P = pickle.load(dbfile)               \n",
    "dbfile.close()\n",
    "\n",
    "print(P)"
   ]
  },
  {
   "cell_type": "code",
   "execution_count": null,
   "metadata": {},
   "outputs": [],
   "source": []
  },
  {
   "cell_type": "code",
   "execution_count": null,
   "metadata": {},
   "outputs": [],
   "source": []
  }
 ],
 "metadata": {
  "kernelspec": {
   "display_name": "Python 3",
   "language": "python",
   "name": "python3"
  },
  "language_info": {
   "codemirror_mode": {
    "name": "ipython",
    "version": 3
   },
   "file_extension": ".py",
   "mimetype": "text/x-python",
   "name": "python",
   "nbconvert_exporter": "python",
   "pygments_lexer": "ipython3",
   "version": "3.7.0"
  }
 },
 "nbformat": 4,
 "nbformat_minor": 2
}
